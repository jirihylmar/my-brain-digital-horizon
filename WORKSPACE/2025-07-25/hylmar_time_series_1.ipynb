{
  "nbformat": 4,
  "nbformat_minor": 0,
  "metadata": {
    "colab": {
      "provenance": []
    },
    "kernelspec": {
      "name": "python3",
      "display_name": "Python 3"
    },
    "language_info": {
      "name": "python"
    }
  },
  "cells": [
    {
      "cell_type": "code",
      "execution_count": null,
      "metadata": {
        "id": "aOny29aNi8GU"
      },
      "outputs": [],
      "source": [
        "# Dataset: energy_consumption_timeseries.tsv\n",
        "import pandas as pd\n",
        "import numpy as np\n",
        "import matplotlib.pyplot as plt\n",
        "import seaborn as sns\n",
        "from statsmodels.tsa.seasonal import seasonal_decompose\n",
        "import warnings\n",
        "warnings.filterwarnings('ignore')\n",
        "\n",
        "# Načtení dat\n",
        "df_energy = pd.read_csv('/content/drive/MyDrive/service-brain-digital-horizon/WORKSPACE/2025-07-25/energy_consumption_timeseries.tsv', sep='\\t', on_bad_lines='skip')\n",
        "df_energy['datetime'] = pd.to_datetime(df_energy['date'] + ' ' + df_energy['hour'].astype(str) + ':00:00')\n",
        "df_energy = df_energy.set_index('datetime').sort_index()\n",
        "\n",
        "# Základní vizualizace\n",
        "plt.figure(figsize=(15, 8))\n",
        "plt.plot(df_energy.index, df_energy['energy_consumption_mwh'])\n",
        "plt.title('Spotřeba energie v čase')\n",
        "plt.xlabel('Čas')\n",
        "plt.ylabel('Spotřeba (MWh)')\n",
        "plt.show()"
      ]
    },
    {
      "cell_type": "markdown",
      "source": [
        "Identifikace vzorů a anomálií"
      ],
      "metadata": {
        "id": "qaR5ENxRKD43"
      }
    },
    {
      "cell_type": "code",
      "source": [
        "# Dataset: energy_consumption_timeseries.tsv\n",
        "# Decomposition časové řady\n",
        "decomposition = seasonal_decompose(df_energy['energy_consumption_mwh'],\n",
        "                                 model='additive', period=24)\n",
        "\n",
        "fig, axes = plt.subplots(4, 1, figsize=(15, 12))\n",
        "decomposition.observed.plot(ax=axes[0], title='Původní data')\n",
        "decomposition.trend.plot(ax=axes[1], title='Trend')\n",
        "decomposition.seasonal.plot(ax=axes[2], title='Sezónnost')\n",
        "decomposition.resid.plot(ax=axes[3], title='Reziduální složka')\n",
        "plt.tight_layout()\n",
        "plt.show()"
      ],
      "metadata": {
        "id": "sI8EVipxJ8e7"
      },
      "execution_count": null,
      "outputs": []
    },
    {
      "cell_type": "markdown",
      "source": [
        "# Analýza korelací a závislostí\n",
        "- Autokorelace (ACF) a parciální autokorelace (PACF)\n",
        "- Stacionarita a její testování\n",
        "- Vliv exogenních proměnných (teplota, typ dne)"
      ],
      "metadata": {
        "id": "J54tddEYKGbC"
      }
    },
    {
      "cell_type": "markdown",
      "metadata": {
        "id": "8e3442a1"
      },
      "source": [
        "# Task\n",
        "Analyzuj dataset energetické spotřeby \"energeticka_spotreba.csv\" a proveď následující kroky: 1. Identifikuj hlavní trendy a vzory. 2. Vysvětli vliv teploty na spotřebu. 3. Porovnej spotřebu ve všední dny vs. víkendy vs. svátky. 4. Navrhni 3 nejdůležitější faktory ovlivňující spotřebu. 5. Doporuč vhodné prediktivní metody pro tento typ dat. Přidej náhled datasetu."
      ]
    },
    {
      "cell_type": "markdown",
      "metadata": {
        "id": "5b4c2972"
      },
      "source": [
        "## Identify main trends and patterns\n",
        "\n",
        "### Subtask:\n",
        "Use visualizations and decomposition to understand the overall trends, seasonality, and any cyclical patterns in energy consumption.\n"
      ]
    },
    {
      "cell_type": "markdown",
      "metadata": {
        "id": "53473a51"
      },
      "source": [
        "## Explain the influence of temperature\n",
        "\n",
        "### Subtask:\n",
        "Analyze the relationship between temperature and energy consumption.\n"
      ]
    },
    {
      "cell_type": "markdown",
      "metadata": {
        "id": "a305a088"
      },
      "source": [
        "**Reasoning**:\n",
        "Create a scatter plot to visualize the relationship between temperature and energy consumption, add labels and title, and then calculate the correlation coefficient.\n",
        "\n"
      ]
    },
    {
      "cell_type": "code",
      "metadata": {
        "id": "706bdb16"
      },
      "source": [
        "plt.figure(figsize=(10, 6))\n",
        "plt.scatter(df_energy['temperature_celsius'], df_energy['energy_consumption_mwh'], alpha=0.6)\n",
        "plt.title('Vztah mezi teplotou a spotřebou energie')\n",
        "plt.xlabel('Teplota (°C)')\n",
        "plt.ylabel('Spotřeba energie (MWh)')\n",
        "plt.grid(True)\n",
        "plt.show()\n",
        "\n",
        "correlation = df_energy['temperature_celsius'].corr(df_energy['energy_consumption_mwh'])\n",
        "print(f\"Pearsonův korelační koeficient mezi teplotou a spotřebou energie: {correlation:.2f}\")"
      ],
      "execution_count": null,
      "outputs": []
    },
    {
      "cell_type": "markdown",
      "metadata": {
        "id": "8ea42e98"
      },
      "source": [
        "## Compare consumption on weekdays vs. weekends vs. holidays\n",
        "\n",
        "### Subtask:\n",
        "Compare consumption on weekdays vs. weekends vs. holidays.\n"
      ]
    },
    {
      "cell_type": "markdown",
      "metadata": {
        "id": "37a6b063"
      },
      "source": [
        "**Reasoning**:\n",
        "Group the dataframe by 'day_type' and calculate the mean energy consumption for each group to compare the consumption on weekdays, weekends, and holidays.\n",
        "\n"
      ]
    },
    {
      "cell_type": "code",
      "metadata": {
        "id": "4e29dbb0"
      },
      "source": [
        "mean_consumption_by_day_type = df_energy.groupby('day_type')['energy_consumption_mwh'].mean()\n",
        "print(\"Průměrná spotřeba energie podle typu dne:\")\n",
        "print(mean_consumption_by_day_type)"
      ],
      "execution_count": null,
      "outputs": []
    },
    {
      "cell_type": "markdown",
      "metadata": {
        "id": "916a101c"
      },
      "source": [
        "## Identify the 3 most important factors influencing consumption\n",
        "\n",
        "### Subtask:\n",
        "Based on the analysis of temperature, day type, and potentially other available features in the dataset, identify the factors that appear to have the strongest influence on energy consumption.\n"
      ]
    },
    {
      "cell_type": "markdown",
      "metadata": {
        "id": "1f0b4c61"
      },
      "source": [
        "**Reasoning**:\n",
        "Review the previous analysis and the available data to identify the top 3 factors influencing energy consumption. Summarize the findings from temperature analysis, day type comparison, and consider the potential influence of other columns like 'hour' and the decomposition components.\n",
        "\n"
      ]
    },
    {
      "cell_type": "code",
      "metadata": {
        "id": "37a1d930"
      },
      "source": [
        "print(\"Review of analysis results:\")\n",
        "print(\"\\nInfluence of Temperature:\")\n",
        "print(f\"Pearson correlation coefficient between temperature and energy consumption: {df_energy['temperature_celsius'].corr(df_energy['energy_consumption_mwh']):.2f}\")\n",
        "print(\"Visual inspection of scatter plot shows a non-linear relationship: higher consumption at very low and very high temperatures.\")\n",
        "\n",
        "print(\"\\nComparison of Consumption by Day Type:\")\n",
        "print(\"Average energy consumption by day type:\")\n",
        "print(df_energy.groupby('day_type')['energy_consumption_mwh'].mean())\n",
        "print(\"Weekdays show significantly higher average consumption than Holidays.\")\n",
        "\n",
        "print(\"\\nPotential influence of other factors:\")\n",
        "print(\"The 'hour' column represents the time of day, which is strongly linked to the observed daily seasonality.\")\n",
        "print(\"The 'seasonal_component' from decomposition directly reflects the daily pattern of consumption.\")\n",
        "print(\"The 'trend_component' captures the long-term changes in consumption.\")\n",
        "print(\"The 'demand_forecast_naive' is likely a predictor based on historical data and would be highly correlated with actual consumption.\")\n",
        "print(\"Other columns like 'grid_frequency' might have some influence but are likely less significant compared to temperature, day type, and time of day.\")\n",
        "\n",
        "print(\"\\nIdentifying the top 3 factors:\")\n",
        "print(\"Based on the analysis, the factors with the strongest apparent influence are:\")\n",
        "print(\"1. Time of Day (Hour/Seasonal Component): The decomposition clearly shows a strong daily seasonal pattern.\")\n",
        "print(\"2. Day Type (Weekday vs. Holiday): Average consumption differs significantly between weekdays and holidays.\")\n",
        "print(\"3. Temperature: There is a clear relationship, although non-linear, where extreme temperatures drive higher consumption.\")"
      ],
      "execution_count": null,
      "outputs": []
    },
    {
      "cell_type": "markdown",
      "metadata": {
        "id": "59fbdb2c"
      },
      "source": [
        "## Recommend suitable predictive methods\n",
        "\n",
        "### Subtask:\n",
        "Recommend suitable predictive methods for this type of time series data.\n"
      ]
    },
    {
      "cell_type": "markdown",
      "metadata": {
        "id": "8b409c4a"
      },
      "source": [
        "**Reasoning**:\n",
        "Based on the previous analysis, the time series data exhibits seasonality (daily), trend, and is influenced by exogenous variables (temperature, day type). I will list suitable predictive methods that can handle these characteristics.\n",
        "\n"
      ]
    },
    {
      "cell_type": "code",
      "metadata": {
        "id": "6aa0a617"
      },
      "source": [
        "print(\"Suitable predictive methods for this type of time series data:\")\n",
        "print(\"\\n1. ARIMA/SARIMA (Seasonal Autoregressive Integrated Moving Average):\")\n",
        "print(\"   - ARIMA models are good for handling trends and seasonality. SARIMA specifically extends ARIMA to handle seasonal components effectively.\")\n",
        "print(\"   - They can incorporate exogenous variables (SARIMAX) like temperature and day type, which are important factors identified in the analysis.\")\n",
        "print(\"   - Appropriate for stationary or differenced stationary data.\")\n",
        "\n",
        "print(\"\\n2. Prophet (by Meta):\")\n",
        "print(\"   - Designed for time series with strong seasonality and trends, and can handle missing data and outliers well.\")\n",
        "print(\"   - It is robust to changes in the time series structure.\")\n",
        "print(\"   - Can easily incorporate the impact of holidays and special events (Day Type) and additional regressors (like Temperature).\")\n",
        "print(\"   - Often performs well on business time series data which often have strong seasonal effects.\")\n",
        "\n",
        "print(\"\\n3. Gradient Boosting Models (e.g., LightGBM, XGBoost):\")\n",
        "print(\"   - While not traditionally time series methods, these models can be very effective when time series forecasting is framed as a regression problem.\")\n",
        "print(\"   - They can naturally handle multiple exogenous variables (temperature, day type, hour of day, etc.) and their interactions.\")\n",
        "print(\"   - Feature engineering is key: create features like lag values of consumption, rolling statistics, hour of day, day of week, etc.\")\n",
        "print(\"   - Can capture complex, non-linear relationships between features and the target variable.\")"
      ],
      "execution_count": null,
      "outputs": []
    },
    {
      "cell_type": "markdown",
      "metadata": {
        "id": "73d7f51e"
      },
      "source": [
        "## Summary:\n",
        "\n",
        "### Data Analysis Key Findings\n",
        "\n",
        "*   The energy consumption data shows a clear daily seasonal pattern and an underlying long-term trend.\n",
        "*   Temperature has a significant, albeit non-linear, influence on energy consumption, with higher consumption occurring at extreme temperatures (both very low and very high). The Pearson correlation coefficient between temperature and consumption is \\$0.57\\$.\n",
        "*   Average energy consumption is significantly higher on weekdays (\\$4275.74\\$ MWh) compared to holidays (\\$3551.67\\$ MWh), showing a difference of over \\$700\\$ MWh.\n",
        "*   The most important factors influencing energy consumption appear to be Time of Day (Hour/Seasonal Component), Day Type (Weekday vs. Holiday), and Temperature.\n",
        "\n",
        "### Insights or Next Steps\n",
        "\n",
        "*   Future analysis should explicitly model the non-linear relationship between temperature and energy consumption to improve predictive accuracy.\n",
        "*   Consider framing the forecasting problem as a regression task to leverage the power of gradient boosting models, allowing for the inclusion of multiple influencing factors and their interactions through feature engineering.\n"
      ]
    }
  ]
}