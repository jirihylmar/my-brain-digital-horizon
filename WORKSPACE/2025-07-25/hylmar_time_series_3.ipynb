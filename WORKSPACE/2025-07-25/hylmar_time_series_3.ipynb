{
  "nbformat": 4,
  "nbformat_minor": 0,
  "metadata": {
    "colab": {
      "provenance": []
    },
    "kernelspec": {
      "name": "python3",
      "display_name": "Python 3"
    },
    "language_info": {
      "name": "python"
    }
  },
  "cells": [
    {
      "cell_type": "markdown",
      "source": [
        "# Business KPI forecasting s reálnými daty"
      ],
      "metadata": {
        "id": "0zAB3nRSpJ05"
      }
    },
    {
      "cell_type": "code",
      "execution_count": null,
      "metadata": {
        "id": "ZCB4Jydql2S9"
      },
      "outputs": [],
      "source": [
        "import pandas as pd\n",
        "\n",
        "# Dataset: business_kpi_forecasting.tsv\n",
        "df_business = pd.read_csv('/content/drive/MyDrive/service-brain-digital-horizon/WORKSPACE/2025-07-25/business_kpi_forecasting.tsv', sep='\\t')\n",
        "df_business['date'] = pd.to_datetime(df_business['date'])\n",
        "df_business = df_business.set_index('date').sort_index()\n",
        "\n",
        "display(df_business.head())\n",
        "\n",
        "# Gemini prompt pro business analýzu\n",
        "prompt = \"\"\"\n",
        "Analyzuj tento business dataset:\n",
        "1. Identifikuj klíčové trendy v daily_revenue\n",
        "2. Vysvětli vztah mezi marketing_spend a new_customers\n",
        "3. Navrhni prediktivní model pro cash_flow_impact\n",
        "4. Definuj business kritéria pro alerting systém\n",
        "5. Doporuč KPI pro automatické rozhodování\n",
        "\"\"\"\n",
        "\n",
        "print(prompt)"
      ]
    },
    {
      "cell_type": "code",
      "metadata": {
        "id": "9d6f4a6d"
      },
      "source": [
        "# Dataset: business_kpi_forecasting.tsv\n",
        "def multi_horizon_forecast(data, target_col, horizons=[7, 14, 30]):\n",
        "    \"\"\"Prognóza pro různé časové horizonty\"\"\"\n",
        "    forecasts = {}\n",
        "\n",
        "    for horizon in horizons:\n",
        "        # Prophet model pro business data\n",
        "        from prophet import Prophet\n",
        "\n",
        "        prophet_data = data.reset_index()\n",
        "        prophet_data['ds'] = pd.to_datetime(prophet_data['date'])\n",
        "        prophet_data['y'] = prophet_data[target_col]\n",
        "        prophet_data = prophet_data[['ds', 'y']]\n",
        "\n",
        "        # Prophet model pro business data\n",
        "        # Prophet generally requires more data (ideally a year or more) to accurately model seasonality and trends.\n",
        "        # With only 46 data points, the forecast might not be very accurate.\n",
        "        model = Prophet(\n",
        "            yearly_seasonality=False,\n",
        "            weekly_seasonality=True,\n",
        "            daily_seasonality=False,\n",
        "            changepoint_prior_scale=0.01,\n",
        "            seasonality_prior_scale=0.1\n",
        "        )\n",
        "        model.add_seasonality(name='weekly', period=7, fourier_order=3)\n",
        "        model.fit(prophet_data)\n",
        "\n",
        "        future = model.make_future_dataframe(periods=horizon)\n",
        "        forecast = model.predict(future)\n",
        "\n",
        "        forecasts[f'{horizon}d'] = forecast.tail(horizon)\n",
        "\n",
        "    return forecasts\n",
        "\n",
        "# Revenue forecasting\n",
        "revenue_forecasts = multi_horizon_forecast(df_business, 'daily_revenue')"
      ],
      "execution_count": null,
      "outputs": []
    },
    {
      "cell_type": "code",
      "metadata": {
        "id": "fcb29df1"
      },
      "source": [
        "# display(revenue_forecasts)"
      ],
      "execution_count": 24,
      "outputs": []
    },
    {
      "cell_type": "code",
      "metadata": {
        "id": "05f84725"
      },
      "source": [
        "import matplotlib.pyplot as plt\n",
        "import seaborn as sns\n",
        "\n",
        "def plot_forecast(data, forecast, target_col, horizon):\n",
        "    \"\"\"Vizualizace prognózy\"\"\"\n",
        "    plt.figure(figsize=(12, 6))\n",
        "    sns.lineplot(x=data.index, y=data[target_col], label='Historická data')\n",
        "    sns.lineplot(x=forecast['ds'], y=forecast['yhat'], label=f'Prognóza ({horizon})', color='orange')\n",
        "    plt.fill_between(forecast['ds'], forecast['yhat_lower'], forecast['yhat_upper'], color='orange', alpha=0.2)\n",
        "    plt.title(f'Prognóza {target_col} pro {horizon}')\n",
        "    plt.xlabel('Datum')\n",
        "    plt.ylabel(target_col)\n",
        "    plt.legend()\n",
        "    plt.show()\n",
        "\n",
        "# Plot forecasts for each horizon\n",
        "for horizon, forecast_data in revenue_forecasts.items():\n",
        "    plot_forecast(df_business, forecast_data, 'daily_revenue', horizon)"
      ],
      "execution_count": null,
      "outputs": []
    },
    {
      "cell_type": "markdown",
      "source": [
        "# Automatizace business rozhodování"
      ],
      "metadata": {
        "id": "jRfjZRmcpPr0"
      }
    },
    {
      "cell_type": "markdown",
      "source": [
        "## Inventory Management Automation"
      ],
      "metadata": {
        "id": "xkAw097uptSn"
      }
    },
    {
      "cell_type": "code",
      "source": [
        "import numpy as np\n",
        "from scipy.stats import norm\n",
        "\n",
        "# Dataset: business_kpi_forecasting.tsv\n",
        "# EOQ (Economic Order Quantity) calculation\n",
        "def calculate_eoq(annual_demand, order_cost, holding_cost):\n",
        "    return np.sqrt((2 * annual_demand * order_cost) / holding_cost)\n",
        "\n",
        "# Safety stock calculation\n",
        "def calculate_safety_stock(demand_std, lead_time, service_level=0.95):\n",
        "    z_score = norm.ppf(service_level)\n",
        "    return z_score * demand_std * np.sqrt(lead_time)\n",
        "\n",
        "# Reorder point\n",
        "avg_daily_demand = df_business['inventory_turnover'].rolling(30).mean().iloc[-1]\n",
        "demand_std = df_business['inventory_turnover'].rolling(30).std().iloc[-1]\n",
        "lead_time = 3  # dny\n",
        "\n",
        "safety_stock = calculate_safety_stock(demand_std, lead_time)\n",
        "reorder_point = (avg_daily_demand * lead_time) + safety_stock\n",
        "\n",
        "# Decision logic\n",
        "current_inventory = 100  # example current level\n",
        "\n",
        "def automated_inventory_decision(current_inventory, reorder_point, safety_stock, avg_daily_demand):\n",
        "    \"\"\"Automatizované rozhodování o zásobách\"\"\"\n",
        "\n",
        "    if current_inventory <= reorder_point:\n",
        "        annual_demand = avg_daily_demand * 365\n",
        "        eoq = calculate_eoq(annual_demand, order_cost=500, holding_cost=50)\n",
        "\n",
        "        decision = {\n",
        "            'action': 'REORDER',\n",
        "            'quantity': eoq,\n",
        "            'reason': f'Inventory ({current_inventory}) below reorder point ({reorder_point:.1f})',\n",
        "            'urgency': 'HIGH' if current_inventory < safety_stock else 'NORMAL'\n",
        "        }\n",
        "    else:\n",
        "        decision = {\n",
        "            'action': 'NO_ACTION',\n",
        "            'quantity': 0,\n",
        "            'reason': f'Inventory ({current_inventory}) above reorder point ({reorder_point:.1f})',\n",
        "            'urgency': 'LOW'\n",
        "        }\n",
        "\n",
        "    return decision\n",
        "\n",
        "\n",
        "# Implementace\n",
        "inventory_decision = automated_inventory_decision(current_inventory, reorder_point, safety_stock, avg_daily_demand)\n",
        "print(f\"📦 INVENTORY DECISION: {inventory_decision}\")"
      ],
      "metadata": {
        "id": "j5eo7VyTpX4k"
      },
      "execution_count": null,
      "outputs": []
    },
    {
      "cell_type": "code",
      "metadata": {
        "id": "dc89d974"
      },
      "source": [
        "import matplotlib.pyplot as plt\n",
        "\n",
        "# Prepare data for visualization\n",
        "labels = ['Safety Stock', 'Reorder Point', 'Current Inventory']\n",
        "levels = [safety_stock, reorder_point, current_inventory]\n",
        "\n",
        "# Create the bar chart\n",
        "plt.figure(figsize=(8, 5))\n",
        "plt.bar(labels, levels, color=['red', 'orange', 'green'])\n",
        "plt.ylabel('Inventory Level')\n",
        "plt.title('Inventory Levels vs. Reorder Points')\n",
        "plt.show()"
      ],
      "execution_count": null,
      "outputs": []
    },
    {
      "cell_type": "markdown",
      "source": [
        "## Marketing Budget Optimization"
      ],
      "metadata": {
        "id": "tVnlw03VqHZf"
      }
    },
    {
      "cell_type": "code",
      "source": [
        "# Dataset: business_kpi_forecasting.tsv\n",
        "def optimize_marketing_budget(data, total_budget, channels=['digital', 'traditional', 'social']):\n",
        "    \"\"\"Optimalizace marketingového rozpočtu\"\"\"\n",
        "\n",
        "    # Historical ROI by channel (simulace)\n",
        "    channel_roi = {\n",
        "        'digital': data['roi_marketing'].mean() * 1.2,\n",
        "        'traditional': data['roi_marketing'].mean() * 0.8,\n",
        "        'social': data['roi_marketing'].mean() * 1.1\n",
        "    }\n",
        "\n",
        "    # Budget allocation based on ROI\n",
        "    total_roi_weight = sum(channel_roi.values())\n",
        "    allocation = {}\n",
        "\n",
        "    for channel, roi in channel_roi.items():\n",
        "        weight = roi / total_roi_weight\n",
        "        allocation[channel] = {\n",
        "            'budget': total_budget * weight,\n",
        "            'roi': roi,\n",
        "            'expected_return': total_budget * weight * roi\n",
        "        }\n",
        "\n",
        "    return allocation\n",
        "\n",
        "# Budget optimization\n",
        "budget_allocation = optimize_marketing_budget(df_business, total_budget=50000)\n",
        "print(\"💰 OPTIMALIZED BUDGET ALLOCATION:\")\n",
        "for channel, details in budget_allocation.items():\n",
        "    print(f\"{channel.upper()}: ${details['budget']:.0f} (ROI: {details['roi']:.2f})\")"
      ],
      "metadata": {
        "id": "UYfeBidgqFxg"
      },
      "execution_count": null,
      "outputs": []
    },
    {
      "cell_type": "code",
      "metadata": {
        "id": "0a6e4f9e"
      },
      "source": [
        "# Prepare data for visualization\n",
        "channels = list(budget_allocation.keys())\n",
        "budgets = [allocation['budget'] for allocation in budget_allocation.values()]\n",
        "\n",
        "# Create the bar chart\n",
        "plt.figure(figsize=(8, 5))\n",
        "plt.bar(channels, budgets, color=['blue', 'red', 'green'])\n",
        "plt.ylabel('Allocated Budget ($)')\n",
        "plt.title('Optimized Marketing Budget Allocation')\n",
        "plt.show()"
      ],
      "execution_count": null,
      "outputs": []
    }
  ]
}